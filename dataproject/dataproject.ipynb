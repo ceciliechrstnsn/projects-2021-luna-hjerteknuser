{
 "cells": [
  {
   "cell_type": "markdown",
   "metadata": {},
   "source": [
    "# YOUR PROJECT TITLE"
   ]
  },
  {
   "cell_type": "markdown",
   "metadata": {},
   "source": [
    "### Ideer (inspireret af Samf B hjemmeopgave 2)\n",
    "- Brug DST: tabel AUS07 til at vise udviklingen i bruttoledighed underinddelt i køn (stablet søjler evt. med linje der angive i alt)\n",
    "- Brug DST: tabel AUS07 til at vise udviklingen i bruttoledighed underinddelt i alder\n",
    "- Arbejdsstyrke?\n",
    "- Brug DST: tabel AUS08 til at vise udviklingen i bruttoledighed underinddelt i region\n",
    "- Evt. kig på ’discouraged worker-effect’ (ledige der trækker sig ud af arbejdsmarkedet ved høj arbejdsløshed). Her skal man se på om beskæftigelsen er faldet mere end ledigheden (bruttoledighed = RAM - find tabel - og (årlig)beskæftigelse = NABB19 -> findes der en statistik der opgører månedlig beskæftigelse? RAM skal sammenlignes med Nationalregnskabet)\n",
    "- Brug DST: tabel EKSP04 (ledige og nyopslåede stillinger på jobnet) til at illustrere efterspørgslen efter arbejdskraft.\n",
    "- Brug DST: tabel AUP01 (fuldtidsledige som pct. af arbejdsstyrken fordelt på alder og område)\n",
    "- Brug DST: LBESK03 lønmodtagere efter branche. Udviklingen i ledigheden på tværs af erhver-agtigt\n",
    "\n",
    "\n",
    "https://www.dst.dk/da/Statistik/nyt/NytHtml?cid=31501\n",
    " \n",
    "\n",
    "Lav en slags tidslinje over begivenheder der kan have haft effekt på lededen/beskæftigelse. Eventuelt inkluder dem direkte i grafer\n"
   ]
  },
  {
   "cell_type": "markdown",
   "metadata": {},
   "source": [
    "Imports and set magics:"
   ]
  },
  {
   "cell_type": "markdown",
   "metadata": {},
   "source": [
    "**Import packages**"
   ]
  },
  {
   "cell_type": "code",
   "execution_count": 1,
   "metadata": {},
   "outputs": [],
   "source": [
    "import pandas as pd\n",
    "import matplotlib.pyplot as plt\n",
    "import numpy as np\n",
    "import ipywidgets as widgets\n",
    "#from matplotlib_venn import venn2 # install with pip install matplotlib-venn\n",
    "\n",
    "# autoreload modules when code is run\n",
    "%load_ext autoreload\n",
    "%autoreload 2\n",
    "\n",
    "# local modules\n",
    "import dataproject\n",
    "#pip install git+https://github.com/elben10/pydst \n",
    "#to run this the above code needs to be installed in terminal"
   ]
  },
  {
   "cell_type": "markdown",
   "metadata": {},
   "source": [
    "# Read and clean data"
   ]
  },
  {
   "cell_type": "markdown",
   "metadata": {},
   "source": [
    "**Import package Pydst to get data using an API from Statistics Denmark**"
   ]
  },
  {
   "cell_type": "code",
   "execution_count": 2,
   "metadata": {},
   "outputs": [],
   "source": [
    "import pydst"
   ]
  },
  {
   "cell_type": "code",
   "execution_count": 3,
   "metadata": {},
   "outputs": [],
   "source": [
    "Dst = pydst.Dst(lang='en')\n",
    "#Dst.get_tables(subjects=['INDKP107'])\n",
    "Dst.get_subjects()\n",
    "tables = Dst.get_tables(subjects=['04'])"
   ]
  },
  {
   "cell_type": "markdown",
   "metadata": {},
   "source": [
    "**Getting data from table: AUS07**"
   ]
  },
  {
   "cell_type": "code",
   "execution_count": 4,
   "metadata": {},
   "outputs": [
    {
     "output_type": "execute_result",
     "data": {
      "text/plain": "        id                                      text unit             updated  \\\n113  AUS07  Unemployed persons (seasonally adjusted)    - 2021-03-04 08:00:00   \n\n    firstPeriod latestPeriod  active  \\\n113     2007M01      2021M01    True   \n\n                                             variables  \n113  [benefits, sex and age, seasonal adjustment an...  ",
      "text/html": "<div>\n<style scoped>\n    .dataframe tbody tr th:only-of-type {\n        vertical-align: middle;\n    }\n\n    .dataframe tbody tr th {\n        vertical-align: top;\n    }\n\n    .dataframe thead th {\n        text-align: right;\n    }\n</style>\n<table border=\"1\" class=\"dataframe\">\n  <thead>\n    <tr style=\"text-align: right;\">\n      <th></th>\n      <th>id</th>\n      <th>text</th>\n      <th>unit</th>\n      <th>updated</th>\n      <th>firstPeriod</th>\n      <th>latestPeriod</th>\n      <th>active</th>\n      <th>variables</th>\n    </tr>\n  </thead>\n  <tbody>\n    <tr>\n      <th>113</th>\n      <td>AUS07</td>\n      <td>Unemployed persons (seasonally adjusted)</td>\n      <td>-</td>\n      <td>2021-03-04 08:00:00</td>\n      <td>2007M01</td>\n      <td>2021M01</td>\n      <td>True</td>\n      <td>[benefits, sex and age, seasonal adjustment an...</td>\n    </tr>\n  </tbody>\n</table>\n</div>"
     },
     "metadata": {},
     "execution_count": 4
    }
   ],
   "source": [
    "data_aus07 = tables[tables.id=='AUS07']\n",
    "data_aus07"
   ]
  },
  {
   "cell_type": "code",
   "execution_count": 5,
   "metadata": {},
   "outputs": [
    {
     "output_type": "execute_result",
     "data": {
      "text/plain": "          id                                    text  elimination   time  \\\n0         YD                   benefits, sex and age        False  False   \n1  SAESONFAK  seasonal adjustment and actual figures        False  False   \n2        Tid                                    time        False   True   \n\n                                              values  \n0  [{'id': 'TOT', 'text': 'Gross unemployment'}, ...  \n1  [{'id': '9', 'text': 'Seasonally adjusted figu...  \n2  [{'id': '2007M01', 'text': '2007M01'}, {'id': ...  ",
      "text/html": "<div>\n<style scoped>\n    .dataframe tbody tr th:only-of-type {\n        vertical-align: middle;\n    }\n\n    .dataframe tbody tr th {\n        vertical-align: top;\n    }\n\n    .dataframe thead th {\n        text-align: right;\n    }\n</style>\n<table border=\"1\" class=\"dataframe\">\n  <thead>\n    <tr style=\"text-align: right;\">\n      <th></th>\n      <th>id</th>\n      <th>text</th>\n      <th>elimination</th>\n      <th>time</th>\n      <th>values</th>\n    </tr>\n  </thead>\n  <tbody>\n    <tr>\n      <th>0</th>\n      <td>YD</td>\n      <td>benefits, sex and age</td>\n      <td>False</td>\n      <td>False</td>\n      <td>[{'id': 'TOT', 'text': 'Gross unemployment'}, ...</td>\n    </tr>\n    <tr>\n      <th>1</th>\n      <td>SAESONFAK</td>\n      <td>seasonal adjustment and actual figures</td>\n      <td>False</td>\n      <td>False</td>\n      <td>[{'id': '9', 'text': 'Seasonally adjusted figu...</td>\n    </tr>\n    <tr>\n      <th>2</th>\n      <td>Tid</td>\n      <td>time</td>\n      <td>False</td>\n      <td>True</td>\n      <td>[{'id': '2007M01', 'text': '2007M01'}, {'id': ...</td>\n    </tr>\n  </tbody>\n</table>\n</div>"
     },
     "metadata": {},
     "execution_count": 5
    }
   ],
   "source": [
    "aus_vars = Dst.get_variables(table_id='AUS07')\n",
    "aus_vars"
   ]
  },
  {
   "cell_type": "code",
   "execution_count": 6,
   "metadata": {
    "collapsed": true,
    "jupyter": {
     "outputs_hidden": true
    },
    "tags": []
   },
   "outputs": [
    {
     "output_type": "stream",
     "name": "stdout",
     "text": "YD\n id = TOT, text = Gross unemployment\n id = NET, text = Net unemployment\n id = LDP, text = Net unemployed recipients of unemployment benefits\n id = LKT, text = Net unemployed recipients of social assistance\n id = AKI, text = Activation total\n id = ADP, text = Activation of persons on unemployment benefits\n id = AKT, text = Activation of persons on social assistance (prepared for employment)\n id = MEN, text = Men\n id = KVR, text = Women\n id = U25, text = 16-24 years\n id = O25, text = 25-29 years\n id = O30, text = 30-39 years\n id = O40, text = 40-49 years\n id = O50, text = 50-59 years\n id = O60, text = 60 years and more\nSAESONFAK\n id = 9, text = Seasonally adjusted figures in percent of the labour force\n id = 10, text = Seasonally adjusted\n id = 22, text = Enumerated actual figures  in percent of the labour force\n id = 24, text = Enumerated actual figures\nTid\n id = 2007M01, text = 2007M01\n id = 2007M02, text = 2007M02\n id = 2007M03, text = 2007M03\n id = 2007M04, text = 2007M04\n id = 2007M05, text = 2007M05\n id = 2007M06, text = 2007M06\n id = 2007M07, text = 2007M07\n id = 2007M08, text = 2007M08\n id = 2007M09, text = 2007M09\n id = 2007M10, text = 2007M10\n id = 2007M11, text = 2007M11\n id = 2007M12, text = 2007M12\n id = 2008M01, text = 2008M01\n id = 2008M02, text = 2008M02\n id = 2008M03, text = 2008M03\n id = 2008M04, text = 2008M04\n id = 2008M05, text = 2008M05\n id = 2008M06, text = 2008M06\n id = 2008M07, text = 2008M07\n id = 2008M08, text = 2008M08\n id = 2008M09, text = 2008M09\n id = 2008M10, text = 2008M10\n id = 2008M11, text = 2008M11\n id = 2008M12, text = 2008M12\n id = 2009M01, text = 2009M01\n id = 2009M02, text = 2009M02\n id = 2009M03, text = 2009M03\n id = 2009M04, text = 2009M04\n id = 2009M05, text = 2009M05\n id = 2009M06, text = 2009M06\n id = 2009M07, text = 2009M07\n id = 2009M08, text = 2009M08\n id = 2009M09, text = 2009M09\n id = 2009M10, text = 2009M10\n id = 2009M11, text = 2009M11\n id = 2009M12, text = 2009M12\n id = 2010M01, text = 2010M01\n id = 2010M02, text = 2010M02\n id = 2010M03, text = 2010M03\n id = 2010M04, text = 2010M04\n id = 2010M05, text = 2010M05\n id = 2010M06, text = 2010M06\n id = 2010M07, text = 2010M07\n id = 2010M08, text = 2010M08\n id = 2010M09, text = 2010M09\n id = 2010M10, text = 2010M10\n id = 2010M11, text = 2010M11\n id = 2010M12, text = 2010M12\n id = 2011M01, text = 2011M01\n id = 2011M02, text = 2011M02\n id = 2011M03, text = 2011M03\n id = 2011M04, text = 2011M04\n id = 2011M05, text = 2011M05\n id = 2011M06, text = 2011M06\n id = 2011M07, text = 2011M07\n id = 2011M08, text = 2011M08\n id = 2011M09, text = 2011M09\n id = 2011M10, text = 2011M10\n id = 2011M11, text = 2011M11\n id = 2011M12, text = 2011M12\n id = 2012M01, text = 2012M01\n id = 2012M02, text = 2012M02\n id = 2012M03, text = 2012M03\n id = 2012M04, text = 2012M04\n id = 2012M05, text = 2012M05\n id = 2012M06, text = 2012M06\n id = 2012M07, text = 2012M07\n id = 2012M08, text = 2012M08\n id = 2012M09, text = 2012M09\n id = 2012M10, text = 2012M10\n id = 2012M11, text = 2012M11\n id = 2012M12, text = 2012M12\n id = 2013M01, text = 2013M01\n id = 2013M02, text = 2013M02\n id = 2013M03, text = 2013M03\n id = 2013M04, text = 2013M04\n id = 2013M05, text = 2013M05\n id = 2013M06, text = 2013M06\n id = 2013M07, text = 2013M07\n id = 2013M08, text = 2013M08\n id = 2013M09, text = 2013M09\n id = 2013M10, text = 2013M10\n id = 2013M11, text = 2013M11\n id = 2013M12, text = 2013M12\n id = 2014M01, text = 2014M01\n id = 2014M02, text = 2014M02\n id = 2014M03, text = 2014M03\n id = 2014M04, text = 2014M04\n id = 2014M05, text = 2014M05\n id = 2014M06, text = 2014M06\n id = 2014M07, text = 2014M07\n id = 2014M08, text = 2014M08\n id = 2014M09, text = 2014M09\n id = 2014M10, text = 2014M10\n id = 2014M11, text = 2014M11\n id = 2014M12, text = 2014M12\n id = 2015M01, text = 2015M01\n id = 2015M02, text = 2015M02\n id = 2015M03, text = 2015M03\n id = 2015M04, text = 2015M04\n id = 2015M05, text = 2015M05\n id = 2015M06, text = 2015M06\n id = 2015M07, text = 2015M07\n id = 2015M08, text = 2015M08\n id = 2015M09, text = 2015M09\n id = 2015M10, text = 2015M10\n id = 2015M11, text = 2015M11\n id = 2015M12, text = 2015M12\n id = 2016M01, text = 2016M01\n id = 2016M02, text = 2016M02\n id = 2016M03, text = 2016M03\n id = 2016M04, text = 2016M04\n id = 2016M05, text = 2016M05\n id = 2016M06, text = 2016M06\n id = 2016M07, text = 2016M07\n id = 2016M08, text = 2016M08\n id = 2016M09, text = 2016M09\n id = 2016M10, text = 2016M10\n id = 2016M11, text = 2016M11\n id = 2016M12, text = 2016M12\n id = 2017M01, text = 2017M01\n id = 2017M02, text = 2017M02\n id = 2017M03, text = 2017M03\n id = 2017M04, text = 2017M04\n id = 2017M05, text = 2017M05\n id = 2017M06, text = 2017M06\n id = 2017M07, text = 2017M07\n id = 2017M08, text = 2017M08\n id = 2017M09, text = 2017M09\n id = 2017M10, text = 2017M10\n id = 2017M11, text = 2017M11\n id = 2017M12, text = 2017M12\n id = 2018M01, text = 2018M01\n id = 2018M02, text = 2018M02\n id = 2018M03, text = 2018M03\n id = 2018M04, text = 2018M04\n id = 2018M05, text = 2018M05\n id = 2018M06, text = 2018M06\n id = 2018M07, text = 2018M07\n id = 2018M08, text = 2018M08\n id = 2018M09, text = 2018M09\n id = 2018M10, text = 2018M10\n id = 2018M11, text = 2018M11\n id = 2018M12, text = 2018M12\n id = 2019M01, text = 2019M01\n id = 2019M02, text = 2019M02\n id = 2019M03, text = 2019M03\n id = 2019M04, text = 2019M04\n id = 2019M05, text = 2019M05\n id = 2019M06, text = 2019M06\n id = 2019M07, text = 2019M07\n id = 2019M08, text = 2019M08\n id = 2019M09, text = 2019M09\n id = 2019M10, text = 2019M10\n id = 2019M11, text = 2019M11\n id = 2019M12, text = 2019M12\n id = 2020M01, text = 2020M01\n id = 2020M02, text = 2020M02\n id = 2020M03, text = 2020M03\n id = 2020M04, text = 2020M04\n id = 2020M05, text = 2020M05\n id = 2020M06, text = 2020M06\n id = 2020M07, text = 2020M07\n id = 2020M08, text = 2020M08\n id = 2020M09, text = 2020M09\n id = 2020M10, text = 2020M10\n id = 2020M11, text = 2020M11\n id = 2020M12, text = 2020M12\n id = 2021M01, text = 2021M01\n"
    }
   ],
   "source": [
    "for id in ['YD', 'SAESONFAK','Tid']:\n",
    "    print(id)\n",
    "    values = aus_vars.loc[aus_vars.id == id, ['values']].values[0,0]\n",
    "    for value in values:\n",
    "        print(f' id = {value[\"id\"]}, text = {value[\"text\"]}')\n",
    "#Bruttoledige består af de ikke-aktiverede (nettoledige) og aktiverede ledige."
   ]
  },
  {
   "cell_type": "code",
   "execution_count": 7,
   "metadata": {},
   "outputs": [
    {
     "output_type": "execute_result",
     "data": {
      "text/plain": "             SAESONFAK      TID   INDHOLD\n0  Seasonally adjusted  2008M11   79298.9\n1  Seasonally adjusted  2008M12   85631.1\n2  Seasonally adjusted  2009M01   92165.2\n3  Seasonally adjusted  2009M02  101461.8\n4  Seasonally adjusted  2009M03  111313.7",
      "text/html": "<div>\n<style scoped>\n    .dataframe tbody tr th:only-of-type {\n        vertical-align: middle;\n    }\n\n    .dataframe tbody tr th {\n        vertical-align: top;\n    }\n\n    .dataframe thead th {\n        text-align: right;\n    }\n</style>\n<table border=\"1\" class=\"dataframe\">\n  <thead>\n    <tr style=\"text-align: right;\">\n      <th></th>\n      <th>SAESONFAK</th>\n      <th>TID</th>\n      <th>INDHOLD</th>\n    </tr>\n  </thead>\n  <tbody>\n    <tr>\n      <th>0</th>\n      <td>Seasonally adjusted</td>\n      <td>2008M11</td>\n      <td>79298.9</td>\n    </tr>\n    <tr>\n      <th>1</th>\n      <td>Seasonally adjusted</td>\n      <td>2008M12</td>\n      <td>85631.1</td>\n    </tr>\n    <tr>\n      <th>2</th>\n      <td>Seasonally adjusted</td>\n      <td>2009M01</td>\n      <td>92165.2</td>\n    </tr>\n    <tr>\n      <th>3</th>\n      <td>Seasonally adjusted</td>\n      <td>2009M02</td>\n      <td>101461.8</td>\n    </tr>\n    <tr>\n      <th>4</th>\n      <td>Seasonally adjusted</td>\n      <td>2009M03</td>\n      <td>111313.7</td>\n    </tr>\n  </tbody>\n</table>\n</div>"
     },
     "metadata": {},
     "execution_count": 7
    }
   ],
   "source": [
    "variables = {'YD': ['TOT'], 'SAESONFAK': ['10'],'Tid': ['*']}\n",
    "aus07 = Dst.get_data(table_id = 'AUS07', variables = variables)\n",
    "aus07 = aus07.iloc[:,1:] #dropping column 'YD'\n",
    "aus07.head()"
   ]
  },
  {
   "cell_type": "markdown",
   "metadata": {},
   "source": [
    "Drop column ID"
   ]
  },
  {
   "cell_type": "code",
   "execution_count": 8,
   "metadata": {},
   "outputs": [],
   "source": [
    "#new_api11 = pd.DataFrame(new_api1)\n",
    "#new_api11.head(10)"
   ]
  },
  {
   "cell_type": "markdown",
   "metadata": {},
   "source": [
    "**Getting data from table: LBESK03**"
   ]
  },
  {
   "cell_type": "code",
   "execution_count": 8,
   "metadata": {},
   "outputs": [
    {
     "output_type": "execute_result",
     "data": {
      "text/plain": "                id                                 text  elimination   time  \\\n0  BRANCHEDB071038  industry (DB07 10- and 19-grouping)         True  False   \n1              Tid                                 time        False   True   \n\n                                              values  \n0  [{'id': 'TOT', 'text': 'TOT Industry, total'},...  \n1  [{'id': '2008M01', 'text': '2008M01'}, {'id': ...  ",
      "text/html": "<div>\n<style scoped>\n    .dataframe tbody tr th:only-of-type {\n        vertical-align: middle;\n    }\n\n    .dataframe tbody tr th {\n        vertical-align: top;\n    }\n\n    .dataframe thead th {\n        text-align: right;\n    }\n</style>\n<table border=\"1\" class=\"dataframe\">\n  <thead>\n    <tr style=\"text-align: right;\">\n      <th></th>\n      <th>id</th>\n      <th>text</th>\n      <th>elimination</th>\n      <th>time</th>\n      <th>values</th>\n    </tr>\n  </thead>\n  <tbody>\n    <tr>\n      <th>0</th>\n      <td>BRANCHEDB071038</td>\n      <td>industry (DB07 10- and 19-grouping)</td>\n      <td>True</td>\n      <td>False</td>\n      <td>[{'id': 'TOT', 'text': 'TOT Industry, total'},...</td>\n    </tr>\n    <tr>\n      <th>1</th>\n      <td>Tid</td>\n      <td>time</td>\n      <td>False</td>\n      <td>True</td>\n      <td>[{'id': '2008M01', 'text': '2008M01'}, {'id': ...</td>\n    </tr>\n  </tbody>\n</table>\n</div>"
     },
     "metadata": {},
     "execution_count": 8
    }
   ],
   "source": [
    "data_lbesk03 = tables[tables.id=='LBESK03']\n",
    "data_lbesk03\n",
    "lbesk_vars = Dst.get_variables(table_id='LBESK03')\n",
    "lbesk_vars"
   ]
  },
  {
   "cell_type": "code",
   "execution_count": 9,
   "metadata": {
    "collapsed": true,
    "jupyter": {
     "outputs_hidden": true
    },
    "tags": []
   },
   "outputs": [
    {
     "output_type": "stream",
     "name": "stdout",
     "text": "BRANCHEDB071038\n id = TOT, text = TOT Industry, total\n id = 1, text = 1 Agriculture, forestry and fishing\n id = A, text = A Agriculture, forestry and fishing\n id = 2, text = 2 Manufacturing, mining and quarrying, and utility services\n id = B, text = B Mining and quarrying\n id = C, text = C Manufacturing\n id = D, text = D Electricity, gas, steam and air conditioning supply\n id = E, text = E Water supply, sewerage and waste management\n id = 3, text = 3 Construction\n id = F, text = F Construction\n id = 4, text = 4 Trade and transport etc.\n id = G, text = G Wholesale and retail trade\n id = H, text = H Transportation\n id = I, text = I Accommodation and food service activities\n id = 5, text = 5 Information and communication\n id = J, text = J Information and communication\n id = 6, text = 6 Financial and insurance\n id = K, text = K Financial and insurance\n id = 7, text = 7 Real estate\n id = L, text = L Real estate activities\n id = 8, text = 8 Other business services\n id = M, text = M Knowledge-based services\n id = N, text = N Travel agent, cleaning, and other operationel services\n id = 9, text = 9 Public administration, education and health\n id = O, text = O Public administration, defence and compulsory social security\n id = P, text = P Education\n id = Q, text = Q Human health and social work\n id = 10, text = 10 Arts, entertainment and recration activities\n id = R, text = R Arts, entertainment and recreation activities\n id = S, text = S Other service activities etc.\n id = 11, text = 11 Activity not stated\n id = X, text = X Activity not stated\nTid\n id = 2008M01, text = 2008M01\n id = 2008M02, text = 2008M02\n id = 2008M03, text = 2008M03\n id = 2008M04, text = 2008M04\n id = 2008M05, text = 2008M05\n id = 2008M06, text = 2008M06\n id = 2008M07, text = 2008M07\n id = 2008M08, text = 2008M08\n id = 2008M09, text = 2008M09\n id = 2008M10, text = 2008M10\n id = 2008M11, text = 2008M11\n id = 2008M12, text = 2008M12\n id = 2009M01, text = 2009M01\n id = 2009M02, text = 2009M02\n id = 2009M03, text = 2009M03\n id = 2009M04, text = 2009M04\n id = 2009M05, text = 2009M05\n id = 2009M06, text = 2009M06\n id = 2009M07, text = 2009M07\n id = 2009M08, text = 2009M08\n id = 2009M09, text = 2009M09\n id = 2009M10, text = 2009M10\n id = 2009M11, text = 2009M11\n id = 2009M12, text = 2009M12\n id = 2010M01, text = 2010M01\n id = 2010M02, text = 2010M02\n id = 2010M03, text = 2010M03\n id = 2010M04, text = 2010M04\n id = 2010M05, text = 2010M05\n id = 2010M06, text = 2010M06\n id = 2010M07, text = 2010M07\n id = 2010M08, text = 2010M08\n id = 2010M09, text = 2010M09\n id = 2010M10, text = 2010M10\n id = 2010M11, text = 2010M11\n id = 2010M12, text = 2010M12\n id = 2011M01, text = 2011M01\n id = 2011M02, text = 2011M02\n id = 2011M03, text = 2011M03\n id = 2011M04, text = 2011M04\n id = 2011M05, text = 2011M05\n id = 2011M06, text = 2011M06\n id = 2011M07, text = 2011M07\n id = 2011M08, text = 2011M08\n id = 2011M09, text = 2011M09\n id = 2011M10, text = 2011M10\n id = 2011M11, text = 2011M11\n id = 2011M12, text = 2011M12\n id = 2012M01, text = 2012M01\n id = 2012M02, text = 2012M02\n id = 2012M03, text = 2012M03\n id = 2012M04, text = 2012M04\n id = 2012M05, text = 2012M05\n id = 2012M06, text = 2012M06\n id = 2012M07, text = 2012M07\n id = 2012M08, text = 2012M08\n id = 2012M09, text = 2012M09\n id = 2012M10, text = 2012M10\n id = 2012M11, text = 2012M11\n id = 2012M12, text = 2012M12\n id = 2013M01, text = 2013M01\n id = 2013M02, text = 2013M02\n id = 2013M03, text = 2013M03\n id = 2013M04, text = 2013M04\n id = 2013M05, text = 2013M05\n id = 2013M06, text = 2013M06\n id = 2013M07, text = 2013M07\n id = 2013M08, text = 2013M08\n id = 2013M09, text = 2013M09\n id = 2013M10, text = 2013M10\n id = 2013M11, text = 2013M11\n id = 2013M12, text = 2013M12\n id = 2014M01, text = 2014M01\n id = 2014M02, text = 2014M02\n id = 2014M03, text = 2014M03\n id = 2014M04, text = 2014M04\n id = 2014M05, text = 2014M05\n id = 2014M06, text = 2014M06\n id = 2014M07, text = 2014M07\n id = 2014M08, text = 2014M08\n id = 2014M09, text = 2014M09\n id = 2014M10, text = 2014M10\n id = 2014M11, text = 2014M11\n id = 2014M12, text = 2014M12\n id = 2015M01, text = 2015M01\n id = 2015M02, text = 2015M02\n id = 2015M03, text = 2015M03\n id = 2015M04, text = 2015M04\n id = 2015M05, text = 2015M05\n id = 2015M06, text = 2015M06\n id = 2015M07, text = 2015M07\n id = 2015M08, text = 2015M08\n id = 2015M09, text = 2015M09\n id = 2015M10, text = 2015M10\n id = 2015M11, text = 2015M11\n id = 2015M12, text = 2015M12\n id = 2016M01, text = 2016M01\n id = 2016M02, text = 2016M02\n id = 2016M03, text = 2016M03\n id = 2016M04, text = 2016M04\n id = 2016M05, text = 2016M05\n id = 2016M06, text = 2016M06\n id = 2016M07, text = 2016M07\n id = 2016M08, text = 2016M08\n id = 2016M09, text = 2016M09\n id = 2016M10, text = 2016M10\n id = 2016M11, text = 2016M11\n id = 2016M12, text = 2016M12\n id = 2017M01, text = 2017M01\n id = 2017M02, text = 2017M02\n id = 2017M03, text = 2017M03\n id = 2017M04, text = 2017M04\n id = 2017M05, text = 2017M05\n id = 2017M06, text = 2017M06\n id = 2017M07, text = 2017M07\n id = 2017M08, text = 2017M08\n id = 2017M09, text = 2017M09\n id = 2017M10, text = 2017M10\n id = 2017M11, text = 2017M11\n id = 2017M12, text = 2017M12\n id = 2018M01, text = 2018M01\n id = 2018M02, text = 2018M02\n id = 2018M03, text = 2018M03\n id = 2018M04, text = 2018M04\n id = 2018M05, text = 2018M05\n id = 2018M06, text = 2018M06\n id = 2018M07, text = 2018M07\n id = 2018M08, text = 2018M08\n id = 2018M09, text = 2018M09\n id = 2018M10, text = 2018M10\n id = 2018M11, text = 2018M11\n id = 2018M12, text = 2018M12\n id = 2019M01, text = 2019M01\n id = 2019M02, text = 2019M02\n id = 2019M03, text = 2019M03\n id = 2019M04, text = 2019M04\n id = 2019M05, text = 2019M05\n id = 2019M06, text = 2019M06\n id = 2019M07, text = 2019M07\n id = 2019M08, text = 2019M08\n id = 2019M09, text = 2019M09\n id = 2019M10, text = 2019M10\n id = 2019M11, text = 2019M11\n id = 2019M12, text = 2019M12\n id = 2020M01, text = 2020M01\n id = 2020M02, text = 2020M02\n id = 2020M03, text = 2020M03\n id = 2020M04, text = 2020M04\n id = 2020M05, text = 2020M05\n id = 2020M06, text = 2020M06\n id = 2020M07, text = 2020M07\n id = 2020M08, text = 2020M08\n id = 2020M09, text = 2020M09\n id = 2020M10, text = 2020M10\n id = 2020M11, text = 2020M11\n id = 2020M12, text = 2020M12\n id = 2021M01, text = 2021M01\n"
    }
   ],
   "source": [
    "for id in ['BRANCHEDB071038','Tid']:\n",
    "    print(id)\n",
    "    values = lbesk_vars.loc[lbesk_vars.id == id, ['values']].values[0,0]\n",
    "    for value in values:\n",
    "        print(f' id = {value[\"id\"]}, text = {value[\"text\"]}')\n",
    "#Bruttoledige består af de ikke-aktiverede (nettoledige) og aktiverede ledige."
   ]
  },
  {
   "cell_type": "code",
   "execution_count": 10,
   "metadata": {},
   "outputs": [
    {
     "output_type": "execute_result",
     "data": {
      "text/plain": "                                     BRANCHEDB071038      TID  INDHOLD\n0                             11 Activity not stated  2018M08      322\n1  2 Manufacturing, mining and quarrying, and uti...  2018M08   331789\n2                                     3 Construction  2018M08   163900\n3                         4 Trade and transport etc.  2018M08   692065\n4                    5 Information and communication  2018M08   106748",
      "text/html": "<div>\n<style scoped>\n    .dataframe tbody tr th:only-of-type {\n        vertical-align: middle;\n    }\n\n    .dataframe tbody tr th {\n        vertical-align: top;\n    }\n\n    .dataframe thead th {\n        text-align: right;\n    }\n</style>\n<table border=\"1\" class=\"dataframe\">\n  <thead>\n    <tr style=\"text-align: right;\">\n      <th></th>\n      <th>BRANCHEDB071038</th>\n      <th>TID</th>\n      <th>INDHOLD</th>\n    </tr>\n  </thead>\n  <tbody>\n    <tr>\n      <th>0</th>\n      <td>11 Activity not stated</td>\n      <td>2018M08</td>\n      <td>322</td>\n    </tr>\n    <tr>\n      <th>1</th>\n      <td>2 Manufacturing, mining and quarrying, and uti...</td>\n      <td>2018M08</td>\n      <td>331789</td>\n    </tr>\n    <tr>\n      <th>2</th>\n      <td>3 Construction</td>\n      <td>2018M08</td>\n      <td>163900</td>\n    </tr>\n    <tr>\n      <th>3</th>\n      <td>4 Trade and transport etc.</td>\n      <td>2018M08</td>\n      <td>692065</td>\n    </tr>\n    <tr>\n      <th>4</th>\n      <td>5 Information and communication</td>\n      <td>2018M08</td>\n      <td>106748</td>\n    </tr>\n  </tbody>\n</table>\n</div>"
     },
     "metadata": {},
     "execution_count": 10
    }
   ],
   "source": [
    "variables = {'BRANCHEDB071038': ['*'],'Tid': ['*']}\n",
    "lbesk03 = Dst.get_data(table_id = 'LBESK03', variables = variables)\n",
    "lbesk03.head()"
   ]
  },
  {
   "cell_type": "markdown",
   "metadata": {},
   "source": [
    "**Getting data from table: LSK01**"
   ]
  },
  {
   "cell_type": "code",
   "execution_count": 11,
   "metadata": {},
   "outputs": [
    {
     "output_type": "execute_result",
     "data": {
      "text/plain": "          id      text  elimination   time  \\\n0    BRANCHE  industry         True  False   \n1      ENHED      unit        False  False   \n2  STØRRELSE      size         True  False   \n3        Tid      time        False   True   \n\n                                              values  \n0  [{'id': '0', 'text': 'Total'}, {'id': '2', 'te...  \n1  [{'id': 'LS', 'text': 'Job vacancies (number)'...  \n2  [{'id': '000', 'text': 'Workplaces total'}, {'...  \n3  [{'id': '2010K1', 'text': '2010Q1'}, {'id': '2...  ",
      "text/html": "<div>\n<style scoped>\n    .dataframe tbody tr th:only-of-type {\n        vertical-align: middle;\n    }\n\n    .dataframe tbody tr th {\n        vertical-align: top;\n    }\n\n    .dataframe thead th {\n        text-align: right;\n    }\n</style>\n<table border=\"1\" class=\"dataframe\">\n  <thead>\n    <tr style=\"text-align: right;\">\n      <th></th>\n      <th>id</th>\n      <th>text</th>\n      <th>elimination</th>\n      <th>time</th>\n      <th>values</th>\n    </tr>\n  </thead>\n  <tbody>\n    <tr>\n      <th>0</th>\n      <td>BRANCHE</td>\n      <td>industry</td>\n      <td>True</td>\n      <td>False</td>\n      <td>[{'id': '0', 'text': 'Total'}, {'id': '2', 'te...</td>\n    </tr>\n    <tr>\n      <th>1</th>\n      <td>ENHED</td>\n      <td>unit</td>\n      <td>False</td>\n      <td>False</td>\n      <td>[{'id': 'LS', 'text': 'Job vacancies (number)'...</td>\n    </tr>\n    <tr>\n      <th>2</th>\n      <td>STØRRELSE</td>\n      <td>size</td>\n      <td>True</td>\n      <td>False</td>\n      <td>[{'id': '000', 'text': 'Workplaces total'}, {'...</td>\n    </tr>\n    <tr>\n      <th>3</th>\n      <td>Tid</td>\n      <td>time</td>\n      <td>False</td>\n      <td>True</td>\n      <td>[{'id': '2010K1', 'text': '2010Q1'}, {'id': '2...</td>\n    </tr>\n  </tbody>\n</table>\n</div>"
     },
     "metadata": {},
     "execution_count": 11
    }
   ],
   "source": [
    "data_lsk01 = tables[tables.id=='LSK01']\n",
    "data_lsk01\n",
    "lsk_vars = Dst.get_variables(table_id='LSK01')\n",
    "lsk_vars"
   ]
  },
  {
   "cell_type": "code",
   "execution_count": 12,
   "metadata": {
    "collapsed": true,
    "jupyter": {
     "outputs_hidden": true
    },
    "tags": []
   },
   "outputs": [
    {
     "output_type": "stream",
     "name": "stdout",
     "text": "BRANCHE\n id = 0, text = Total\n id = 2, text = 2 Manufacturing, mining and quarrying, and utility services\n id = 3, text = 3 Construction\n id = 4, text = 4 Trade and transport etc.\n id = 5, text = 5 Information and communication\n id = 6-7, text = 6-7 Financial, insurance and real estate\n id = 8, text = 8 Other business services\nENHED\n id = LS, text = Job vacancies (number)\n id = ALS, text = Job vacancy rate (per cent)\nTid\n id = 2010K1, text = 2010Q1\n id = 2010K2, text = 2010Q2\n id = 2010K3, text = 2010Q3\n id = 2010K4, text = 2010Q4\n id = 2011K1, text = 2011Q1\n id = 2011K2, text = 2011Q2\n id = 2011K3, text = 2011Q3\n id = 2011K4, text = 2011Q4\n id = 2012K1, text = 2012Q1\n id = 2012K2, text = 2012Q2\n id = 2012K3, text = 2012Q3\n id = 2012K4, text = 2012Q4\n id = 2013K1, text = 2013Q1\n id = 2013K2, text = 2013Q2\n id = 2013K3, text = 2013Q3\n id = 2013K4, text = 2013Q4\n id = 2014K1, text = 2014Q1\n id = 2014K2, text = 2014Q2\n id = 2014K3, text = 2014Q3\n id = 2014K4, text = 2014Q4\n id = 2015K1, text = 2015Q1\n id = 2015K2, text = 2015Q2\n id = 2015K3, text = 2015Q3\n id = 2015K4, text = 2015Q4\n id = 2016K1, text = 2016Q1\n id = 2016K2, text = 2016Q2\n id = 2016K3, text = 2016Q3\n id = 2016K4, text = 2016Q4\n id = 2017K1, text = 2017Q1\n id = 2017K2, text = 2017Q2\n id = 2017K3, text = 2017Q3\n id = 2017K4, text = 2017Q4\n id = 2018K1, text = 2018Q1\n id = 2018K2, text = 2018Q2\n id = 2018K3, text = 2018Q3\n id = 2018K4, text = 2018Q4\n id = 2019K1, text = 2019Q1\n id = 2019K2, text = 2019Q2\n id = 2019K3, text = 2019Q3\n id = 2019K4, text = 2019Q4\n id = 2020K1, text = 2020Q1\n id = 2020K2, text = 2020Q2\n id = 2020K3, text = 2020Q3\n id = 2020K4, text = 2020Q4\n"
    }
   ],
   "source": [
    "for id in ['BRANCHE','ENHED', 'Tid']:\n",
    "    print(id)\n",
    "    values = lsk_vars.loc[lsk_vars.id == id, ['values']].values[0,0]\n",
    "    for value in values:\n",
    "        print(f' id = {value[\"id\"]}, text = {value[\"text\"]}')"
   ]
  },
  {
   "cell_type": "code",
   "execution_count": 13,
   "metadata": {},
   "outputs": [
    {
     "output_type": "execute_result",
     "data": {
      "text/plain": "                                             BRANCHE                   ENHED  \\\n0                                              Total  Job vacancies (number)   \n1  2 Manufacturing, mining and quarrying, and uti...  Job vacancies (number)   \n2                                     3 Construction  Job vacancies (number)   \n3                         4 Trade and transport etc.  Job vacancies (number)   \n4                    5 Information and communication  Job vacancies (number)   \n\n      TID         STØRRELSE  INDHOLD  \n0  2010Q1  Workplaces total  19094.0  \n1  2010Q1  Workplaces total   2854.0  \n2  2010Q1  Workplaces total   1362.0  \n3  2010Q1  Workplaces total   7857.0  \n4  2010Q1  Workplaces total   1666.0  ",
      "text/html": "<div>\n<style scoped>\n    .dataframe tbody tr th:only-of-type {\n        vertical-align: middle;\n    }\n\n    .dataframe tbody tr th {\n        vertical-align: top;\n    }\n\n    .dataframe thead th {\n        text-align: right;\n    }\n</style>\n<table border=\"1\" class=\"dataframe\">\n  <thead>\n    <tr style=\"text-align: right;\">\n      <th></th>\n      <th>BRANCHE</th>\n      <th>ENHED</th>\n      <th>TID</th>\n      <th>STØRRELSE</th>\n      <th>INDHOLD</th>\n    </tr>\n  </thead>\n  <tbody>\n    <tr>\n      <th>0</th>\n      <td>Total</td>\n      <td>Job vacancies (number)</td>\n      <td>2010Q1</td>\n      <td>Workplaces total</td>\n      <td>19094.0</td>\n    </tr>\n    <tr>\n      <th>1</th>\n      <td>2 Manufacturing, mining and quarrying, and uti...</td>\n      <td>Job vacancies (number)</td>\n      <td>2010Q1</td>\n      <td>Workplaces total</td>\n      <td>2854.0</td>\n    </tr>\n    <tr>\n      <th>2</th>\n      <td>3 Construction</td>\n      <td>Job vacancies (number)</td>\n      <td>2010Q1</td>\n      <td>Workplaces total</td>\n      <td>1362.0</td>\n    </tr>\n    <tr>\n      <th>3</th>\n      <td>4 Trade and transport etc.</td>\n      <td>Job vacancies (number)</td>\n      <td>2010Q1</td>\n      <td>Workplaces total</td>\n      <td>7857.0</td>\n    </tr>\n    <tr>\n      <th>4</th>\n      <td>5 Information and communication</td>\n      <td>Job vacancies (number)</td>\n      <td>2010Q1</td>\n      <td>Workplaces total</td>\n      <td>1666.0</td>\n    </tr>\n  </tbody>\n</table>\n</div>"
     },
     "metadata": {},
     "execution_count": 13
    }
   ],
   "source": [
    "variables = {'BRANCHE': ['*'], 'Enhed': ['LS'], 'Tid': ['*']}\n",
    "lsk01 = Dst.get_data(table_id = 'LSK01', variables = variables)\n",
    "lsk01.head()"
   ]
  },
  {
   "cell_type": "markdown",
   "metadata": {},
   "source": [
    "# Merge data sets"
   ]
  },
  {
   "cell_type": "code",
   "execution_count": 38,
   "metadata": {},
   "outputs": [
    {
     "output_type": "execute_result",
     "data": {
      "text/plain": "             SAESONFAK    TIME  Unemployed  \\\n0  Seasonally adjusted  200811     79298.9   \n1  Seasonally adjusted  200811     79298.9   \n2  Seasonally adjusted  200811     79298.9   \n3  Seasonally adjusted  200811     79298.9   \n4  Seasonally adjusted  200811     79298.9   \n\n                                              BRANCH  Employed  YEAR  MD  \n0                A Agriculture, forestry and fishing   38581.0  2008  11  \n1                             B Mining and quarrying    4780.0  2008  11  \n2                                    C Manufacturing  363401.0  2008  11  \n3  D Electricity, gas, steam and air conditioning...   12108.0  2008  11  \n4      E Water supply, sewerage and waste management   11739.0  2008  11  ",
      "text/html": "<div>\n<style scoped>\n    .dataframe tbody tr th:only-of-type {\n        vertical-align: middle;\n    }\n\n    .dataframe tbody tr th {\n        vertical-align: top;\n    }\n\n    .dataframe thead th {\n        text-align: right;\n    }\n</style>\n<table border=\"1\" class=\"dataframe\">\n  <thead>\n    <tr style=\"text-align: right;\">\n      <th></th>\n      <th>SAESONFAK</th>\n      <th>TIME</th>\n      <th>Unemployed</th>\n      <th>BRANCH</th>\n      <th>Employed</th>\n      <th>YEAR</th>\n      <th>MD</th>\n    </tr>\n  </thead>\n  <tbody>\n    <tr>\n      <th>0</th>\n      <td>Seasonally adjusted</td>\n      <td>200811</td>\n      <td>79298.9</td>\n      <td>A Agriculture, forestry and fishing</td>\n      <td>38581.0</td>\n      <td>2008</td>\n      <td>11</td>\n    </tr>\n    <tr>\n      <th>1</th>\n      <td>Seasonally adjusted</td>\n      <td>200811</td>\n      <td>79298.9</td>\n      <td>B Mining and quarrying</td>\n      <td>4780.0</td>\n      <td>2008</td>\n      <td>11</td>\n    </tr>\n    <tr>\n      <th>2</th>\n      <td>Seasonally adjusted</td>\n      <td>200811</td>\n      <td>79298.9</td>\n      <td>C Manufacturing</td>\n      <td>363401.0</td>\n      <td>2008</td>\n      <td>11</td>\n    </tr>\n    <tr>\n      <th>3</th>\n      <td>Seasonally adjusted</td>\n      <td>200811</td>\n      <td>79298.9</td>\n      <td>D Electricity, gas, steam and air conditioning...</td>\n      <td>12108.0</td>\n      <td>2008</td>\n      <td>11</td>\n    </tr>\n    <tr>\n      <th>4</th>\n      <td>Seasonally adjusted</td>\n      <td>200811</td>\n      <td>79298.9</td>\n      <td>E Water supply, sewerage and waste management</td>\n      <td>11739.0</td>\n      <td>2008</td>\n      <td>11</td>\n    </tr>\n  </tbody>\n</table>\n</div>"
     },
     "metadata": {},
     "execution_count": 38
    }
   ],
   "source": [
    "dstmerge = pd.merge(aus07, lbesk03, how='outer', on=['TID']);\n",
    "dstmerge.rename(columns = {'INDHOLD_x': 'Unemployed', 'INDHOLD_y': 'Employed', 'TID': 'TIME', 'BRANCHEDB071038': 'BRANCH'}, inplace = True)\n",
    "#dstmerge.pd.date_to_time['TIME']\n",
    "\n",
    "dstmerge['TIME'] = dstmerge['TIME'].str.replace(r'\\D', '')\n",
    "dstmerge['YEAR'] = dstmerge['TIME'].str[:4]\n",
    "dstmerge['MD'] = dstmerge['TIME'].str[-2:]\n",
    "\n",
    "dstmerge.head()\n",
    "#unemployed - gross"
   ]
  },
  {
   "cell_type": "code",
   "execution_count": 16,
   "metadata": {},
   "outputs": [],
   "source": [
    "#delete M in TIME\n",
    "#time = 'YYYYMMM'\n",
    "#index = 4\n",
    "#if len(time) > index:\n",
    "#    time = time[0 : index : ] + time[index + 1: :]\n",
    "    \n",
    "#dstmerge['TIME'] = dstmerge['TIME'].map(lambda x: time)\n",
    "#dstmerge.head()\n",
    "#dstmerge['YYYYMM'] = pd.to_datetime(dstmerge['YYYYMM'], format='%Y%m')"
   ]
  },
  {
   "cell_type": "markdown",
   "metadata": {},
   "source": [
    "# Data Analysis\n"
   ]
  },
  {
   "cell_type": "code",
   "execution_count": 17,
   "metadata": {},
   "outputs": [],
   "source": [
    "#def _plot_timeseries(dataframe, variable, times):\n",
    "    \n",
    "#    fig = plt.figure(dpi=100)\n",
    "#     ax = fig.add_subplot(1,1,1)\n",
    "    \n",
    "#     dataframe.loc[:,['time']] = pd.to_numeric(dataframe['time'])\n",
    "#     I = (dataframe['time'] >= years[0]) & (dataframe['time'] <= years[1])\n",
    "    \n",
    "#     x = dataframe.loc[I,'time']\n",
    "#     y = dataframe.loc[I,variable]\n",
    "#     ax.plot(x,y)\n",
    "    \n",
    "#     ax.set_xticks(list(range(times[0], times[1] + 1, 5)))    \n",
    "    \n",
    "# def plot_timeseries(dataframe):\n",
    "    \n",
    "#     widgets.interact(_plot_timeseries, \n",
    "#     dataframe = widgets.fixed(dataframe),\n",
    "#     variable = widgets.Dropdown(\n",
    "#         description='variable', \n",
    "#         options=['Unemployed','Employed'], \n",
    "#         value='Unemployed'),\n",
    "#     years=widgets.IntRangeSlider(\n",
    "#         description=\"times\",\n",
    "#         min='2008M11',\n",
    "#       max='2020M12',\n",
    "#   #       value=['2008M11', '2020M12'],\n",
    "#    #      continuous_update=False,\n",
    " #  #   )                 \n",
    "# ); "
   ]
  },
  {
   "cell_type": "code",
   "execution_count": 18,
   "metadata": {},
   "outputs": [],
   "source": [
    "#plot_timeseries(dstmerge)"
   ]
  },
  {
   "cell_type": "markdown",
   "metadata": {},
   "source": [
    "**Emne: Vi ønsker at analysere arbejdsstyrken (de beskæftigede samt de ledige)**\n",
    "* hvad sker der under corona?\n",
    "* hvor mange bliver ledige, ryger de i aktivering?\n",
    "* er der nogen som under corona (arbejdsstyrken?)\n",
    "* efterspørgsel - ledige stillinger\n",
    "\n",
    "Periode: før/efter corona (sammenligner 2019 med 2020)\n",
    "1. Beskæftigelse + ledige (overordnet)\n",
    "* \n",
    "2. Ledige \n",
    "* aktivering osv.\n",
    "* efterspørgsel -> ledige stillinger (brancher)\n",
    "* udgangspunkt i f.eks. brancher\n",
    "3. Beskæftigelse\n",
    "* branche før/efter corona\n",
    "\n",
    "1. Udviklingen i bruttoledighed (mange år) (AUS07)\n",
    "* interaktiv graf (ps 3)\n",
    "* alder / køn evt.\n",
    "\n",
    "2. Udviklingen i beskæftigelse (LBSK03)\n",
    "* branche\n",
    "\n",
    "3. Efterspørgsel\n",
    "* vis ledige stillinger (LSK01)\n",
    "\n",
    "4. konklusion\n",
    "\n",
    "\n",
    "\n",
    "\n",
    "\n"
   ]
  },
  {
   "cell_type": "markdown",
   "metadata": {},
   "source": [
    "# Conclusion"
   ]
  },
  {
   "cell_type": "markdown",
   "metadata": {},
   "source": [
    "ADD CONCISE CONLUSION."
   ]
  }
 ],
 "metadata": {
  "kernelspec": {
   "display_name": "Python 3",
   "language": "python",
   "name": "python3"
  },
  "language_info": {
   "codemirror_mode": {
    "name": "ipython",
    "version": 3
   },
   "file_extension": ".py",
   "mimetype": "text/x-python",
   "name": "python",
   "nbconvert_exporter": "python",
   "pygments_lexer": "ipython3",
   "version": "3.8.5-final"
  },
  "toc-autonumbering": true
 },
 "nbformat": 4,
 "nbformat_minor": 4
}