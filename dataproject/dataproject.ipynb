{
 "cells": [
  {
   "cell_type": "markdown",
   "metadata": {},
   "source": [
    "# YOUR PROJECT TITLE"
   ]
  },
  {
   "source": [
    "### Ideer (inspireret af Samf B hjemmeopgave 2)\n",
    "- Brug DST: tabel AUS07 til at vise udviklingen i bruttoledighed underinddelt i køn (stablet søjler evt. med linje der angive i alt)\n",
    "- Brug DST: tabel AUS07 til at vise udviklingen i bruttoledighed underinddelt i alder\n",
    "- Arbejdsstyrke?\n",
    "- Brug DST: tabel AUS08 til at vise udviklingen i bruttoledighed underinddelt i region\n",
    "- Evt. kig på ’discouraged worker-effect’ (ledige der trækker sig ud af arbejdsmarkedet ved høj arbejdsløshed). Her skal man se på om beskæftigelsen er faldet mere end ledigheden (bruttoledighed = RAM - find tabel - og (årlig)beskæftigelse = NABB19 -> findes der en statistik der opgører månedlig beskæftigelse? RAM skal sammenlignes med Nationalregnskabet)\n",
    "- Brug DST: tabel EKSP04 (ledige og nyopslåede stillinger på jobnet) til at illustrere efterspørgslen efter arbejdskraft.\n",
    "- Brug DST: tabel AUP01 (fuldtidsledige som pct. af arbejdsstyrken fordelt på alder og område)\n",
    "- Brug DST: LBESK03 lønmodtagere efter branche. Udviklingen i ledigheden på tværs af erhver-agtigt\n",
    "\n",
    "\n",
    "https://www.dst.dk/da/Statistik/nyt/NytHtml?cid=31501\n",
    " \n",
    "\n",
    "Lav en slags tidslinje over begivenheder der kan have haft effekt på lededen/beskæftigelse. Eventuelt inkluder dem direkte i grafer\n"
   ],
   "cell_type": "markdown",
   "metadata": {}
  },
  {
   "cell_type": "markdown",
   "metadata": {},
   "source": [
    "Imports and set magics:"
   ]
  },
  {
   "cell_type": "code",
   "execution_count": 1,
   "metadata": {},
   "outputs": [],
   "source": [
    "import pandas as pd\n",
    "import matplotlib.pyplot as plt\n",
    "import ipywidgets as widgets\n",
    "from matplotlib_venn import venn2 # install with pip install matplotlib-venn\n",
    "\n",
    "# autoreload modules when code is run\n",
    "%load_ext autoreload\n",
    "%autoreload 2\n",
    "\n",
    "# local modules\n",
    "import dataproject"
   ]
  },
  {
   "cell_type": "markdown",
   "metadata": {},
   "source": [
    "# Read and clean data"
   ]
  },
  {
   "cell_type": "code",
   "execution_count": 4,
   "metadata": {},
   "outputs": [],
   "source": [
    "import requests"
   ]
  },
  {
   "cell_type": "code",
   "execution_count": 19,
   "metadata": {},
   "outputs": [
    {
     "name": "stdout",
     "output_type": "stream",
     "text": [
      "400\n"
     ]
    }
   ],
   "source": [
    "response = requests.get(\"https://api.statbank.dk/v1/data?format=JSON\")\n",
    "print(response.status_code)"
   ]
  },
  {
   "cell_type": "code",
   "execution_count": 18,
   "metadata": {},
   "outputs": [
    {
     "name": "stdout",
     "output_type": "stream",
     "text": [
      "404\n"
     ]
    }
   ],
   "source": [
    "reponse = requests.get(\"https://api.statbank.dk/v1/subjects?format=JSON\")\n",
    "print(response.status_code)"
   ]
  },
  {
   "cell_type": "code",
   "execution_count": null,
   "metadata": {},
   "outputs": [],
   "source": [
    "#example\n",
    "\n",
    "#Specifying query parameters: \n",
    "#Personal API-key to access data, data period by using our date_time function, stationId (06184 is the DMI station at Østerbro, Kbh), \n",
    "#parameterId (temp_dry is \"Present air temperature measured 2 m over terrain every 10 min\") and finally the limit\n",
    "#which should be around 6*24*(3650+240)=560160 observations - thus the limit should be more than this (incl. 27 of august)\n",
    "params = {'api-key' : api_key,\n",
    "          'from' : date_time(start_time),\n",
    "          'to' : date_time(end_time),\n",
    "          'stationId' : '06184',\n",
    "          'parameterId' : 'temp_dry',\n",
    "          'limit' : '1000000',\n",
    "          }\n",
    "#Requests and gets URL for the chosen query parameters.\n",
    "r = requests.get(url, params=params)\n",
    "print(r, r.url)"
   ]
  },
  {
   "cell_type": "code",
   "execution_count": 14,
   "metadata": {},
   "outputs": [],
   "source": [
    "# https://api.statbank.dk \n",
    "# https://api.statbank.dk/v1/data"
   ]
  },
  {
   "cell_type": "code",
   "execution_count": null,
   "metadata": {},
   "outputs": [],
   "source": []
  },
  {
   "cell_type": "markdown",
   "metadata": {},
   "source": [
    "# Merge data sets"
   ]
  },
  {
   "cell_type": "markdown",
   "metadata": {},
   "source": [
    "# Data Analysis\n"
   ]
  },
  {
   "cell_type": "markdown",
   "metadata": {},
   "source": [
    "# Conclusion"
   ]
  },
  {
   "cell_type": "markdown",
   "metadata": {},
   "source": [
    "ADD CONCISE CONLUSION."
   ]
  }
 ],
 "metadata": {
  "kernelspec": {
   "display_name": "Python 3",
   "language": "python",
   "name": "python3"
  },
  "language_info": {
   "codemirror_mode": {
    "name": "ipython",
    "version": 3
   },
   "file_extension": ".py",
   "mimetype": "text/x-python",
   "name": "python",
   "nbconvert_exporter": "python",
   "pygments_lexer": "ipython3",
   "version": "3.7.9"
  },
  "toc-autonumbering": true
 },
 "nbformat": 4,
 "nbformat_minor": 4
}