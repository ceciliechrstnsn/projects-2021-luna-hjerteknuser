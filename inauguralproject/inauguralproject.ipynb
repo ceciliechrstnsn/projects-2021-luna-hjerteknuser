{
 "cells": [
  {
   "cell_type": "markdown",
   "metadata": {},
   "source": [
    "# Inaugural Project - Housing demand and taxation\n",
    "### - *Luna Hjerteknuser*\n",
    "A given household can spend cash $m$ on either housing or consumption $c$. Quality of housing, $h$, grants household utility and has the cost $p_{h}$ which is subject to progressive taxation and morgage cost as by equation (\\ref{eq4}). The household aims to maximize utility such that optimal amounts of housing, $h^{*}$, and consumption, $c^{*}$, are met according to equation (\\ref{eq1}).\n",
    "\n",
    "\\begin{align}\n",
    "    c^{*},h^{*} & = \\underset{c, h}{\\operatorname{argmax}} c^{1-\\phi}h^{\\phi} \\label{eq1}\\tag{1} \\\\\n",
    "    &s.t.\\\\\n",
    "    \\tilde{p}_{h} &= p_{h}\\varepsilon \\label{eq2}\\tag{2} \\\\\n",
    "    m &= \\tau(p_{h},\\tilde{p}_{h})+c \\label{eq3}\\tag{3} \\\\\n",
    "    \\tau(p_{h},\\tilde{p}_{h})&=r p_{h}+\\tau^{g}\\tilde{p}_{h}+\\tau^{p}max\\{\\tilde{p}_{h}-\\bar{p},0\\} \\label{eq4}\\tag{4}\n",
    "\\end{align}\n",
    "\n",
    "The houses are taxed according to the public assesment being $\\tilde{p}_{h}$. The assesment is politically decided according to equation (\\ref{eq2}) by $\\varepsilon$. Available cash for a given household is split between housing costs and consumption. $r$ denotes the carrying interest for purchasing a home, and $\\tau^{g}$ denotes the base housing tax while the last element in equation (\\ref{eq4}) homes valued above a certain cutoff, $\\bar{p}$ are taxed at an additional rate $\\tau^{p}$"
   ]
  },
  {
   "cell_type": "markdown",
   "metadata": {},
   "source": [
    "# Q1 Construct a function that solves the household's problem above.\n",
    "We let the market price of a home be equal to its quality: $$ p_{h}=h $$ and assume that the households has cash-on-hand $m=0.5$,and the given parameter-values defined in the assignment. Notice, the monetary units is in millions DKK. \n",
    "\n",
    "Knowing the marketprice of a home is equal to its quality, we use a scalar solver using the problems monotonicity. However, we solve it by a vector, that is optimize.minimize()\n",
    "$$ c = m - \\tau(p_{h},\\tilde{p}_{h})\\Leftrightarrow $$\n",
    "$$ c = m - rh-\\tau^{g}h\\varepsilon+\\tau^{p}max\\{h\\varepsilon-\\bar{p},0 \\}   $$\n",
    "meaning $c$ is implicit for a given level of $h$ through the budget constraint."
   ]
  },
  {
   "cell_type": "code",
   "execution_count": 80,
   "metadata": {},
   "outputs": [
    {
     "name": "stdout",
     "output_type": "stream",
     "text": [
      "The autoreload extension is already loaded. To reload it, use:\n",
      "  %reload_ext autoreload\n"
     ]
    }
   ],
   "source": [
    "%load_ext autoreload\n",
    "%autoreload 2\n",
    "import inauguralproject as pyfile\n",
    "\n",
    "# Loading parameter values into a dictionary\n",
    "par1 = {'m':0.5,\n",
    "        'phi':0.3,\n",
    "        'epsilon': 0.5,\n",
    "        'r': 0.03,\n",
    "        'tau_g': 0.012,\n",
    "        'tau_p': 0.004,\n",
    "        'p_bar': 3\n",
    "}"
   ]
  },
  {
   "cell_type": "code",
   "execution_count": 81,
   "metadata": {},
   "outputs": [
    {
     "name": "stdout",
     "output_type": "stream",
     "text": [
      "Scalar optimizer leaves us with an optimal allocation of:\n",
      "For house quality=4.17 and consumption=0.35 with total expenditure=0.50\n",
      "Leaves us with utility of 0.74 and excess 0.00mDKK\n",
      "\n",
      "The multidimensional optimizer concludes, obviously, the same result:\n",
      "For house quality=4.17 and consumption=0.35 with total expenditure=0.50              \n",
      "Leaves us with utility of 0.74 and excess -0.00mDKK\n"
     ]
    }
   ],
   "source": [
    "# Same result, different approaches\n",
    "print(f'Scalar optimizer leaves us with an optimal allocation of:')\n",
    "h_star, c_star, u_star = pyfile.scalar_optimizer(par1, printres = True) \n",
    "print(f'\\nThe multidimensional optimizer concludes, obviously, the same result:')\n",
    "h_star, c_star, u_star = pyfile.optimizer(par1, printres = True)"
   ]
  },
  {
   "cell_type": "markdown",
   "metadata": {},
   "source": [
    "# Q2 Finding optimal choice of $c$ and $h$ given different levels of cash on hand, $m$."
   ]
  },
  {
   "cell_type": "code",
   "execution_count": 82,
   "metadata": {},
   "outputs": [],
   "source": [
    "import numpy as np\n",
    "N = 1000\n",
    "\n",
    "# Creating cash on hands and initializing storage \n",
    "m_array = np.linspace(0.4,2.5,N)\n",
    "h_stars = np.empty(N)\n",
    "c_stars = np.empty(N) \n",
    "u_stars = np.empty(N)\n",
    "\n",
    "\n",
    "\n",
    "for i, v in enumerate(m_array):\n",
    "    # Storing the original m-value\n",
    "    if i == 0:\n",
    "        m_save = par1['m']\n",
    "    \n",
    "    # updating dictionary with new m-value\n",
    "    par1['m'] = v\n",
    "    \n",
    "    # Solving with updated dictionary\n",
    "    result_vector = pyfile.optimizer(par1)\n",
    "    \n",
    "    # loading results\n",
    "    h_stars[i] = result_vector[0]\n",
    "    c_stars[i] = result_vector[1]\n",
    "    u_stars[i] = result_vector[2]\n",
    "\n",
    "    # Restoring original m in dictionary\n",
    "    if i == len(m_array)-1:\n",
    "        par1['m'] = m_save"
   ]
  },
  {
   "cell_type": "code",
   "execution_count": 83,
   "metadata": {},
   "outputs": [
    {
     "data": {
      "image/png": "[encoded data removed]",
      "text/plain": [
       "<Figure size 864x432 with 1 Axes>"
      ]
     },
     "metadata": {
      "needs_background": "light"
     },
     "output_type": "display_data"
    }
   ],
   "source": [
    "import matplotlib.pyplot as plt\n",
    "\n",
    "# Create figure\n",
    "fig = plt.figure(figsize = (12,6))\n",
    "# Add subplot to figure\n",
    "ax = fig.add_subplot(111)\n",
    "\n",
    "# Plot data\n",
    "ax.plot(m_array, h_stars, label=f'$h^\\star(m)$', color = 'navy', alpha = 0.5)\n",
    "ax.plot(m_array, c_stars, label=f'$c^\\star(m)$', color = 'crimson', alpha = 0.5)\n",
    "\n",
    "# Hide the right and top spines\n",
    "ax.spines['right'].set_visible(False)\n",
    "ax.spines['top'].set_visible(False)\n",
    "ax.set_xlabel(f\"$m$\")\n",
    "\n",
    "# Add legend (inputs are labels)\n",
    "ax.legend(frameon=False)\n",
    "\n",
    "# add grid\n",
    "plt.grid(alpha = .15)\n",
    "\n",
    "# add title\n",
    "fig.suptitle(f'Optimal choice of spending for cash on hand, m', fontweight = 'bold')\n",
    "\n",
    "# Show plot\n",
    "plt.show()"
   ]
  },
  {
   "cell_type": "markdown",
   "metadata": {},
   "source": [
    "# Q3 Calculating the average tax burden pr household, T/N.\n",
    "For parameter values as presented in Q1, the progressive housing tax will kick in at house quality, $h\\cdot \\varepsilon =\\bar{p} \\Leftrightarrow h=\\frac{\\bar{p}}{\\varepsilon}\\Leftrightarrow h=\\frac{3}{0.5}=6$. Therefore bunching, a clustering of $h$, can occurs just before the progressive tax kicks in. This can be seen by looking at the histogram of $h$."
   ]
  },
  {
   "cell_type": "code",
   "execution_count": 84,
   "metadata": {},
   "outputs": [],
   "source": [
    "import random\n",
    "\n",
    "N = 10000\n",
    "np.random.seed(1)\n",
    "m_i = np.random.lognormal(-0.4,0.35, size = N)"
   ]
  },
  {
   "cell_type": "code",
   "execution_count": 85,
   "metadata": {},
   "outputs": [
    {
     "name": "stdout",
     "output_type": "stream",
     "text": [
      "For a population of 10000 people, distribution of cash-on-hand is as defined above and model parameters as defined in par1, the tax result is:\n",
      "Average tax burden for the population is 0.036 mDKK, corresponding to 5.08 pct. of average cash-on-hand\n"
     ]
    }
   ],
   "source": [
    "print(f'For a population of {N:d} people, distribution of cash-on-hand is as defined above and model parameters as defined in par1, the tax result is:')\n",
    "avg_tax_Q3, h_stars_Q3 = pyfile.taxrev(par1, m_i, N, printres = True)"
   ]
  },
  {
   "cell_type": "code",
   "execution_count": 86,
   "metadata": {},
   "outputs": [
    {
     "data": {
      "text/plain": [
       "{'m': 0.5,\n",
       " 'phi': 0.3,\n",
       " 'epsilon': 0.5,\n",
       " 'r': 0.03,\n",
       " 'tau_g': 0.012,\n",
       " 'tau_p': 0.004,\n",
       " 'p_bar': 3}"
      ]
     },
     "execution_count": 86,
     "metadata": {},
     "output_type": "execute_result"
    }
   ],
   "source": [
    "par1"
   ]
  },
  {
   "cell_type": "code",
   "execution_count": 87,
   "metadata": {},
   "outputs": [
    {
     "data": {
      "image/png": "[encoded data removed]",
      "text/plain": [
       "<Figure size 864x432 with 1 Axes>"
      ]
     },
     "metadata": {
      "needs_background": "light"
     },
     "output_type": "display_data"
    }
   ],
   "source": [
    "#Below is the Cash-on-hand distribution for the population illustrated:\n",
    "fig = plt.figure(figsize = (12,6))\n",
    "\n",
    "# Add subplot to figure\n",
    "ax = fig.add_subplot(1,1,1)\n",
    "ax.hist(m_i, bins=125, alpha = 0.5, color = 'r')\n",
    "ax.grid(alpha = 0.15)\n",
    "ax.spines['right'].set_visible(False)\n",
    "ax.spines['top'].set_visible(False)\n",
    "plt.suptitle('Cash on hand distribution for population', fontweight = 'bold')\n",
    "plt.show()"
   ]
  },
  {
   "cell_type": "code",
   "execution_count": 88,
   "metadata": {},
   "outputs": [
    {
     "data": {
      "image/png": "[encoded data removed]",
      "text/plain": [
       "<Figure size 864x432 with 1 Axes>"
      ]
     },
     "metadata": {
      "needs_background": "light"
     },
     "output_type": "display_data"
    }
   ],
   "source": [
    "#Below is the house quality distrubtion for population illustrated:\n",
    "fig = plt.figure(figsize = (12,6))\n",
    "\n",
    "# Add subplot to figure\n",
    "ax = fig.add_subplot(1,1,1)\n",
    "ax.hist(h_stars_Q3, bins=125, alpha = 0.5)\n",
    "ax.grid(alpha = 0.15)\n",
    "ax.spines['right'].set_visible(False)\n",
    "ax.spines['top'].set_visible(False)\n",
    "ax.axvline(6.03, color = 'crimson', linestyle = 'dashed', linewidth = .75, label = r'Progressive housing tax kicks in, $ h = \\frac{\\bar{p}}{\\varepsilon}$ = 6')\n",
    "plt.legend(frameon=False)\n",
    "plt.suptitle('House quality distribution for population', fontweight = 'bold')\n",
    "plt.show()\n",
    "\n",
    "#The odd thing there should be noticed is the bunching around the house quality = 6."
   ]
  },
  {
   "cell_type": "markdown",
   "metadata": {},
   "source": [
    "# Q4 The policy maker decides to reform the tax system on housing. Calculating the average taxes as some parameters changes:\n",
    "Parameters for the housing tax have changed such that, $$\\epsilon = 0.8, \\tau^g=0.01, \\tau^p=0.009,\\quad \\textrm{and}\\quad \\bar{p}=8$$This implies a now flatter housing tax and higher progressive tax with a higher threshold.\n",
    "\n",
    "The threshold of $h$ is now, $h\\cdot\\varepsilon=\\bar{p}\\Leftrightarrow h=\\frac{\\bar{p}}{\\varepsilon}=\\frac{8}{0.8}=10$. These changes result in that the average tax payment has increased to 45,000 DKK as calculated below."
   ]
  },
  {
   "cell_type": "code",
   "execution_count": 89,
   "metadata": {},
   "outputs": [],
   "source": [
    "par2 = {'m':0.5,\n",
    "        'phi':0.3,\n",
    "        'epsilon': 0.8,\n",
    "        'r': 0.03,\n",
    "        'tau_g': 0.01,\n",
    "        'tau_p': 0.009,\n",
    "        'p_bar': 8\n",
    "}"
   ]
  },
  {
   "cell_type": "code",
   "execution_count": 90,
   "metadata": {},
   "outputs": [
    {
     "name": "stdout",
     "output_type": "stream",
     "text": [
      "For a population of 10000 people, distribution of cash-on-hand as defined above and model parameters as defined in par2, the tax result is:\n",
      "Average tax burden for the population is 0.045 mDKK, corresponding to 6.30 pct. of average cash-on-hand\n"
     ]
    }
   ],
   "source": [
    "# Calculating and storing average tax and house quality choice for new parameters\n",
    "print(f'For a population of {N:d} people, distribution of cash-on-hand as defined above and model parameters as defined in par2, the tax result is:')\n",
    "avg_tax_Q4, h_stars_Q4 = pyfile.taxrev(par2, m_i, N, printres = True)\n",
    "# avg_tax_Q4, h_stars_Q4 = taxrev(N=N,**par2)"
   ]
  },
  {
   "cell_type": "code",
   "execution_count": 91,
   "metadata": {},
   "outputs": [
    {
     "data": {
      "image/png": "[encoded data removed]",
      "text/plain": [
       "<Figure size 864x432 with 1 Axes>"
      ]
     },
     "metadata": {
      "needs_background": "light"
     },
     "output_type": "display_data"
    }
   ],
   "source": [
    "#Below is the house quality distrubtion for population illustrated:\n",
    "fig = plt.figure(figsize = (12,6))\n",
    "# Add subplot to figure\n",
    "ax = fig.add_subplot(1,1,1)\n",
    "\n",
    "ax.hist(h_stars_Q4, bins=125, alpha = 0.5)\n",
    "ax.grid(alpha = 0.15)\n",
    "ax.spines['right'].set_visible(False)\n",
    "ax.spines['top'].set_visible(False)\n",
    "ax.axvline(10, color = 'crimson', linestyle = 'dashed', linewidth = .75, alpha = 0.75, label = r'Progressive housing tax kicks in, $ h = \\frac{\\bar{p}}{\\varepsilon}$ = 10')\n",
    "plt.legend(frameon=False)\n",
    "plt.suptitle('House quality distribution for population', fontweight = 'bold')\n",
    "plt.show()\n",
    "\n",
    "#Now bunching occurs around the house quality = 10"
   ]
  },
  {
   "cell_type": "markdown",
   "metadata": {},
   "source": [
    "# Q5 The policy maker wants to ensure that the average home owner does not pay more in housing taxes, while changing $\\tau^g$."
   ]
  },
  {
   "cell_type": "markdown",
   "metadata": {},
   "source": [
    "In order to find the optimal value of $\\tau^g$, which will offset the reform changes in Q4, we use a optimizer since this is more precise and quicker than using a loop. We create a new objective function based on our former scaler optimizer, and to find the solution we use optimize.root."
   ]
  },
  {
   "cell_type": "code",
   "execution_count": 92,
   "metadata": {},
   "outputs": [],
   "source": [
    "from scipy import optimize\n",
    "guess = 0.0076\n",
    "sol = optimize.root(pyfile.tax_objective_function, x0 = guess, args=(par2,avg_tax_Q3,m_i,N))\n",
    "sol_tau_g = sol.x[0]\n",
    "tax_diff = pyfile.tax_objective_function(sol_tau_g, par2, avg_tax_Q3, m_i, N)"
   ]
  },
  {
   "cell_type": "code",
   "execution_count": 76,
   "metadata": {},
   "outputs": [
    {
     "name": "stdout",
     "output_type": "stream",
     "text": [
      "Using root optimize will leave us with a tau^g value of 0.00767094 resulting in a average tax burden of 0.03632680 with a total difference of 0.00000000 as the target average tax burden is 0.03632680\n"
     ]
    }
   ],
   "source": [
    "par3 = par2.copy()\n",
    "par3['tau_g'] = sol_tau_g\n",
    "calc_tax = pyfile.taxrev(par3, m_i, N)[0]\n",
    "\n",
    "print(f'Using root optimize will leave us with a tau^g value of {sol_tau_g:.8f} resulting in a average tax burden of {calc_tax:.8f} with a total difference of {tax_diff:.8f} as the target average tax burden is {avg_tax_Q3:.8f}')"
   ]
  },
  {
   "cell_type": "markdown",
   "metadata": {},
   "source": [
    "We have also found the off-setting solution of $\\tau_g$ using a loop. \n",
    "\n",
    "The code below iterates over different levels of $\\tau^g$ and estimates the average tax burden. We iterate over $\\tau^g$-values in the interval $(0,0.01)$ because we want to lower the average tax burden from 45,036.3 DKK to 36,326.8 DKK, while changing $\\tau^g$ and keeping other model parameters fixed as in Q4.\n",
    "\n",
    "As each iteration is calculated for a population of 10,000, the loop takes a while. We know, somewhat precise, where the $\\tau^g$-value is by doing the below iterations for 1,000 $\\tau^g$-values in the above-mentioned interval.\n",
    "\n",
    "If you want to arrive at the solution quicker, while still getting a precise result, use fewer iterations **and** a smaller interval of $\\tau^g$ as suggested below in the two first hashed lines. This is sort of a shortcut as we already know, somewhat precise, which $\\tau^g$ solves our problem.\n",
    "\n",
    "However, this loop solution leads to a less precise value of $\\tau_g$ with a tax difference of around 12 DKK per household. "
   ]
  },
  {
   "cell_type": "code",
   "execution_count": 79,
   "metadata": {},
   "outputs": [
    {
     "name": "stdout",
     "output_type": "stream",
     "text": [
      "5 of 200\n",
      "10 of 200\n",
      "15 of 200\n",
      "20 of 200\n",
      "25 of 200\n",
      "30 of 200\n",
      "35 of 200\n",
      "40 of 200\n",
      "45 of 200\n",
      "50 of 200\n",
      "55 of 200\n",
      "60 of 200\n",
      "65 of 200\n",
      "70 of 200\n",
      "75 of 200\n",
      "80 of 200\n",
      "85 of 200\n",
      "90 of 200\n",
      "95 of 200\n",
      "100 of 200\n",
      "105 of 200\n",
      "110 of 200\n",
      "115 of 200\n",
      "120 of 200\n",
      "125 of 200\n",
      "130 of 200\n",
      "135 of 200\n",
      "140 of 200\n",
      "145 of 200\n",
      "150 of 200\n",
      "155 of 200\n",
      "160 of 200\n",
      "165 of 200\n",
      "170 of 200\n",
      "175 of 200\n",
      "180 of 200\n",
      "185 of 200\n",
      "190 of 200\n",
      "195 of 200\n",
      "200 of 200\n",
      "For 200 iterations, taking 464.63683915138245 seconds, the flat housing tax is estimated as = 0.0076734 where the average tax burden is 0.0363363 mDKK with old tax burden being = 0.0363268 mDKK, the difference being -0.0000095 mDKK\n"
     ]
    }
   ],
   "source": [
    "import time\n",
    "\n",
    "#N_tau_g = 200\n",
    "#tau_gs = np.linspace(0.007, 0.008, N_tau_g)\n",
    "N_tau_g = 1000\n",
    "tau_gs = np.linspace(0, 0.01, N_tau_g)\n",
    "tax_diff = np.inf\n",
    "tau_g_Q5 = 1\n",
    "\n",
    "\n",
    "starttime = time.time()\n",
    "for i, v in enumerate(tau_gs):\n",
    "    idx = i+1\n",
    "    # Storing the original tau_g-value\n",
    "    if i == 0:\n",
    "        tau_g_save = par2['tau_g']\n",
    "    \n",
    "    # Updating tau_g\n",
    "    par2['tau_g'] = v\n",
    "\n",
    "    # Calculating difference\n",
    "    new_tax = pyfile.taxrev(par2, m_i, N)[0]\n",
    "    tax_d = avg_tax_Q3 - new_tax\n",
    "    \n",
    "    # if this tau_g solution is better than previously, update it\n",
    "    if abs(tax_d) < tax_diff:\n",
    "        tau_g_Q5 = v\n",
    "        avg_tax_Q5 = new_tax\n",
    "        tax_diff = tax_d\n",
    "\n",
    "    # Restoring old tau_g value in the dictionary\n",
    "    if i == len(tau_gs)-1:\n",
    "        par2['tau_g'] = tau_g_save\n",
    "    \n",
    "    # Printing progress with an increment of 5\n",
    "    if idx % 5 == 0:\n",
    "        print(f'{idx} of {len(tau_gs)}')\n",
    "\n",
    "endtime = time.time()\n",
    "time_elapsed = endtime - starttime\n",
    "\n",
    "print(f'For {N_tau_g} iterations, taking {time_elapsed} seconds, the flat housing tax is estimated as = {tau_g_Q5:.7f} where the average tax burden is {avg_tax_Q5:.7f} mDKK with old tax burden being = {avg_tax_Q3:.7f} mDKK, the difference being {tax_diff:.7f} mDKK')"
   ]
  },
  {
   "cell_type": "code",
   "execution_count": null,
   "metadata": {},
   "outputs": [],
   "source": []
  }
 ],
 "metadata": {
  "kernelspec": {
   "display_name": "Python 3",
   "language": "python",
   "name": "python3"
  },
  "language_info": {
   "codemirror_mode": {
    "name": "ipython",
    "version": 3
   },
   "file_extension": ".py",
   "mimetype": "text/x-python",
   "name": "python",
   "nbconvert_exporter": "python",
   "pygments_lexer": "ipython3",
   "version": "3.7.9"
  },
  "toc-autonumbering": true
 },
 "nbformat": 4,
 "nbformat_minor": 4
}
